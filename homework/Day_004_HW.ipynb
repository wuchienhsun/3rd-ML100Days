{
 "cells": [
  {
   "cell_type": "markdown",
   "metadata": {},
   "source": [
    "## 練習時間\n",
    "資料的操作有很多，接下來的馬拉松中我們會介紹常被使用到的操作，參加者不妨先自行想像一下，第一次看到資料，我們一般會想知道什麼訊息？\n",
    "\n",
    "#### Ex: 如何知道資料的 row 數以及 column 數、有什麼欄位、多少欄位、如何截取部分的資料等等\n",
    "\n",
    "有了對資料的好奇之後，我們又怎麼通過程式碼來達成我們的目的呢？\n",
    "\n",
    "#### 可參考該[基礎教材](https://bookdata.readthedocs.io/en/latest/base/01_pandas.html#DataFrame-%E5%85%A5%E9%97%A8)或自行 google"
   ]
  },
  {
   "cell_type": "markdown",
   "metadata": {},
   "source": [
    "# [作業目標]\n",
    "- 熟悉更多的 Python 資料操作"
   ]
  },
  {
   "cell_type": "markdown",
   "metadata": {},
   "source": [
    "# [作業重點]\n",
    "- 列出資料的大小 (In[4], Hint : shape)\n",
    "- 列出所有欄位 (In[5], 有多種寫法)\n",
    "- 擷取部分資料 (In[6], Hint : loc 或 iloc)"
   ]
  },
  {
   "cell_type": "code",
   "execution_count": 33,
   "metadata": {},
   "outputs": [],
   "source": [
    "import os\n",
    "import numpy as np\n",
    "import pandas as pd\n",
    "from pandas import Series, DataFrame"
   ]
  },
  {
   "cell_type": "code",
   "execution_count": 34,
   "metadata": {},
   "outputs": [],
   "source": [
    "# 設定 data_path"
   ]
  },
  {
   "cell_type": "code",
   "execution_count": 53,
   "metadata": {},
   "outputs": [
    {
     "name": "stdout",
     "output_type": "stream",
     "text": [
      "aaaaaaa\n",
      "(307511, 122)\n",
      "success\n"
     ]
    }
   ],
   "source": [
    "f_app = os.path.join('../../home-credit-default-risk/application_train.csv')\n",
    "# print(f_app)\n",
    "# print('Path of read in data: %s' % (f_app))\n",
    "csv = pd.read_csv(f_app)\n",
    "print('aaaaaaa')\n",
    "# a = csv.head()\n",
    "# print(a)\n",
    "\n",
    "print('success')"
   ]
  },
  {
   "cell_type": "markdown",
   "metadata": {},
   "source": [
    "### 如果沒有想法，可以先嘗試找出剛剛例子中提到的問題的答案\n",
    "#### 資料的 row 數以及 column 數"
   ]
  },
  {
   "cell_type": "code",
   "execution_count": null,
   "metadata": {
    "collapsed": true
   },
   "outputs": [],
   "source": [
    "shape = csv.shape\n",
    "print(shape)"
   ]
  },
  {
   "cell_type": "markdown",
   "metadata": {},
   "source": [
    "#### 列出所有欄位"
   ]
  },
  {
   "cell_type": "code",
   "execution_count": 56,
   "metadata": {},
   "outputs": [
    {
     "name": "stdout",
     "output_type": "stream",
     "text": [
      "Index(['SK_ID_CURR', 'TARGET', 'NAME_CONTRACT_TYPE', 'CODE_GENDER',\n",
      "       'FLAG_OWN_CAR', 'FLAG_OWN_REALTY', 'CNT_CHILDREN', 'AMT_INCOME_TOTAL',\n",
      "       'AMT_CREDIT', 'AMT_ANNUITY',\n",
      "       ...\n",
      "       'FLAG_DOCUMENT_18', 'FLAG_DOCUMENT_19', 'FLAG_DOCUMENT_20',\n",
      "       'FLAG_DOCUMENT_21', 'AMT_REQ_CREDIT_BUREAU_HOUR',\n",
      "       'AMT_REQ_CREDIT_BUREAU_DAY', 'AMT_REQ_CREDIT_BUREAU_WEEK',\n",
      "       'AMT_REQ_CREDIT_BUREAU_MON', 'AMT_REQ_CREDIT_BUREAU_QRT',\n",
      "       'AMT_REQ_CREDIT_BUREAU_YEAR'],\n",
      "      dtype='object', length=122)\n"
     ]
    }
   ],
   "source": [
    "columns = csv.columns\n",
    "print(columns)"
   ]
  },
  {
   "cell_type": "markdown",
   "metadata": {},
   "source": [
    "#### 截取部分資料"
   ]
  },
  {
   "cell_type": "code",
   "execution_count": 62,
   "metadata": {},
   "outputs": [
    {
     "name": "stdout",
     "output_type": "stream",
     "text": [
      "    SK_ID_CURR  TARGET NAME_CONTRACT_TYPE CODE_GENDER FLAG_OWN_CAR  \\\n",
      "0       100002       1         Cash loans           M            N   \n",
      "1       100003       0         Cash loans           F            N   \n",
      "2       100004       0    Revolving loans           M            Y   \n",
      "3       100006       0         Cash loans           F            N   \n",
      "4       100007       0         Cash loans           M            N   \n",
      "5       100008       0         Cash loans           M            N   \n",
      "6       100009       0         Cash loans           F            Y   \n",
      "7       100010       0         Cash loans           M            Y   \n",
      "8       100011       0         Cash loans           F            N   \n",
      "9       100012       0    Revolving loans           M            N   \n",
      "10      100014       0         Cash loans           F            N   \n",
      "11      100015       0         Cash loans           F            N   \n",
      "12      100016       0         Cash loans           F            N   \n",
      "13      100017       0         Cash loans           M            Y   \n",
      "14      100018       0         Cash loans           F            N   \n",
      "\n",
      "   FLAG_OWN_REALTY  CNT_CHILDREN  AMT_INCOME_TOTAL  AMT_CREDIT  AMT_ANNUITY  \\\n",
      "0                Y             0        202500.000    406597.5      24700.5   \n",
      "1                N             0        270000.000   1293502.5      35698.5   \n",
      "2                Y             0         67500.000    135000.0       6750.0   \n",
      "3                Y             0        135000.000    312682.5      29686.5   \n",
      "4                Y             0        121500.000    513000.0      21865.5   \n",
      "5                Y             0         99000.000    490495.5      27517.5   \n",
      "6                Y             1        171000.000   1560726.0      41301.0   \n",
      "7                Y             0        360000.000   1530000.0      42075.0   \n",
      "8                Y             0        112500.000   1019610.0      33826.5   \n",
      "9                Y             0        135000.000    405000.0      20250.0   \n",
      "10               Y             1        112500.000    652500.0      21177.0   \n",
      "11               Y             0         38419.155    148365.0      10678.5   \n",
      "12               Y             0         67500.000     80865.0       5881.5   \n",
      "13               N             1        225000.000    918468.0      28966.5   \n",
      "14               Y             0        189000.000    773680.5      32778.0   \n",
      "\n",
      "    AMT_GOODS_PRICE  NAME_TYPE_SUITE  \n",
      "0          351000.0    Unaccompanied  \n",
      "1         1129500.0           Family  \n",
      "2          135000.0    Unaccompanied  \n",
      "3          297000.0    Unaccompanied  \n",
      "4          513000.0    Unaccompanied  \n",
      "5          454500.0  Spouse, partner  \n",
      "6         1395000.0    Unaccompanied  \n",
      "7         1530000.0    Unaccompanied  \n",
      "8          913500.0         Children  \n",
      "9          405000.0    Unaccompanied  \n",
      "10         652500.0    Unaccompanied  \n",
      "11         135000.0         Children  \n",
      "12          67500.0    Unaccompanied  \n",
      "13         697500.0    Unaccompanied  \n",
      "14         679500.0    Unaccompanied  \n"
     ]
    }
   ],
   "source": [
    "data = csv.iloc[:15, :12]\n",
    "print(data)"
   ]
  },
  {
   "cell_type": "markdown",
   "metadata": {},
   "source": [
    "#### 還有各種數之不盡的資料操作，重點還是取決於實務中遇到的狀況和你想問的問題，在馬拉松中我們也會陸續提到更多例子"
   ]
  },
  {
   "cell_type": "code",
   "execution_count": null,
   "metadata": {
    "collapsed": true
   },
   "outputs": [],
   "source": []
  }
 ],
 "metadata": {
  "kernelspec": {
   "display_name": "Python 3",
   "language": "python",
   "name": "python3"
  },
  "language_info": {
   "codemirror_mode": {
    "name": "ipython",
    "version": 3
   },
   "file_extension": ".py",
   "mimetype": "text/x-python",
   "name": "python",
   "nbconvert_exporter": "python",
   "pygments_lexer": "ipython3",
   "version": "3.7.3"
  }
 },
 "nbformat": 4,
 "nbformat_minor": 2
}
